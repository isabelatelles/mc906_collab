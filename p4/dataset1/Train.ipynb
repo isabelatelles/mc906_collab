{
 "cells": [
  {
   "cell_type": "code",
   "execution_count": null,
   "metadata": {
    "colab": {
     "base_uri": "https://localhost:8080/",
     "height": 34
    },
    "colab_type": "code",
    "id": "5Ctjd7iK1bCV",
    "outputId": "4f44c8b1-9e51-4be3-faa0-f0f3c2af9bbf"
   },
   "outputs": [],
   "source": [
    "\"\"\"\n",
    "Trained on Google Colab\n",
    "\n",
    "Before running this notebook, remember to download the dataset and to unzip the folders\n",
    "\"\"\"\n",
    "\n",
    "import os\n",
    "import pickle\n",
    "import cv2\n",
    "import numpy as np\n",
    "import pandas as pd\n",
    "import matplotlib.pyplot as plt\n",
    "from keras.preprocessing.image import ImageDataGenerator\n",
    "from keras.callbacks import ModelCheckpoint\n",
    "from keras.applications.VGG19 import VGG19\n",
    "from keras.applications.resnet50 import ResNet50\n",
    "from keras.applications.inception_resnet_v2 import InceptionResNetV2\n",
    "from keras.models import Sequential\n",
    "from keras.layers import GlobalAveragePooling2D\n",
    "from keras.layers.core import Dropout\n",
    "from keras.layers.core import Flatten\n",
    "from keras.layers.core import Dense\n",
    "from keras.optimizers import SGD\n",
    "from keras.optimizers import Adam\n",
    "from keras.optimizers import RMSprop\n",
    "from sklearn.preprocessing import LabelBinarizer\n",
    "from sklearn.model_selection import train_test_split\n",
    "from utils import plot_confusion_matrix\n",
    "\n",
    "# !pip install kaggle"
   ]
  },
  {
   "cell_type": "code",
   "execution_count": null,
   "metadata": {
    "colab": {},
    "colab_type": "code",
    "id": "KWFzU0YG-jNG"
   },
   "outputs": [],
   "source": [
    "# Uncomment to download the dataset\n",
    "\n",
    "# os.environ['KAGGLE_USERNAME'] = ''\n",
    "# os.environ['KAGGLE_KEY'] = ''\n",
    "# !kaggle competitions download -c dog-breed-identification"
   ]
  },
  {
   "cell_type": "code",
   "execution_count": null,
   "metadata": {
    "colab": {},
    "colab_type": "code",
    "id": "G3U2QV_3CPAO"
   },
   "outputs": [],
   "source": [
    "# Uncomment to unzip the folders\n",
    "\n",
    "# !unzip test.zip\n",
    "# !unzip train.zip\n",
    "# !unzip labels.csv"
   ]
  },
  {
   "cell_type": "markdown",
   "metadata": {
    "colab_type": "text",
    "id": "DPcSt9Zq1bCd"
   },
   "source": [
    "# Pre Processing"
   ]
  },
  {
   "cell_type": "code",
   "execution_count": null,
   "metadata": {
    "colab": {},
    "colab_type": "code",
    "id": "M89wnRJ91bCe"
   },
   "outputs": [],
   "source": [
    "df = pd.read_csv('labels.csv')\n",
    "occurrencies_df = df.pivot_table(index='breed', aggfunc=len).sort_values('id',\n",
    "                                                                         ascending=False)"
   ]
  },
  {
   "cell_type": "code",
   "execution_count": null,
   "metadata": {},
   "outputs": [],
   "source": [
    "N = 35\n",
    "TRAIN_PATH = 'train/'\n",
    "INPUT_SIZE = 199\n",
    "HISTORY_FILENAME = 'history_inceptionresnetv2_adam.pkl'\n",
    "MODEL_FILENAME = 'model_inceptionresnetv2_adam.pkl'"
   ]
  },
  {
   "cell_type": "code",
   "execution_count": null,
   "metadata": {
    "colab": {},
    "colab_type": "code",
    "id": "c_-GzUb11bCi"
   },
   "outputs": [],
   "source": [
    "# Get N breeds of dogs with most occurrency\n",
    "labels = np.array(occurrencies_df.index[:N])\n",
    "df = df.loc[df['breed'].isin(labels)]"
   ]
  },
  {
   "cell_type": "code",
   "execution_count": null,
   "metadata": {
    "colab": {},
    "colab_type": "code",
    "id": "SKXH_YtU1bCl"
   },
   "outputs": [],
   "source": [
    "data = list()\n",
    "labels = list()\n",
    "labels_occ = dict()\n",
    "\n",
    "for file in os.listdir(TRAIN_PATH):\n",
    "    filename = file.split('.')[0]\n",
    "    \n",
    "    if df['id'].str.contains(filename).any():\n",
    "        label = df.loc[df['id'] == filename, 'breed'].iloc[0]\n",
    "        labels_occ[label] = labels_occ.get(label, 0) + 1\n",
    "        if labels_occ[label] <= 90:\n",
    "            labels.append(label)\n",
    "            image = cv2.imread(TRAIN_PATH + file)\n",
    "            image = cv2.resize(image, (INPUT_SIZE, INPUT_SIZE))\n",
    "            data.append(image)\n",
    "\n",
    "# Rescale intensities from [0, 255] to [0.0, 1.0]\n",
    "data = np.array(data, dtype='float') / 255.0\n",
    "\n",
    "# Transform class labels into one-hot encoded vectors\n",
    "labels = np.array(labels)\n",
    "lb = LabelBinarizer()\n",
    "labels = lb.fit_transform(labels)"
   ]
  },
  {
   "cell_type": "code",
   "execution_count": null,
   "metadata": {
    "colab": {},
    "colab_type": "code",
    "id": "OdqWEJEB1bCp"
   },
   "outputs": [],
   "source": [
    "# Splitting train and validation sets\n",
    "(trainX, testX, trainY, testY) = train_test_split(data, labels, test_size=0.2,\n",
    "                                                  stratify=labels, random_state=1)"
   ]
  },
  {
   "cell_type": "code",
   "execution_count": null,
   "metadata": {
    "colab": {},
    "colab_type": "code",
    "id": "lOeIQ-EE1bCs"
   },
   "outputs": [],
   "source": [
    "data_augmentation = ImageDataGenerator(rotation_range=25, width_shift_range=0.2,\n",
    "                                       height_shift_range=0.2,\n",
    "                                       shear_range=0.2, zoom_range=0.2,\n",
    "                                       horizontal_flip=True, fill_mode='nearest')"
   ]
  },
  {
   "cell_type": "markdown",
   "metadata": {
    "colab_type": "text",
    "id": "y0XXF64i1bCv"
   },
   "source": [
    "# Modeling and Training"
   ]
  },
  {
   "cell_type": "markdown",
   "metadata": {},
   "source": [
    "### Modeling"
   ]
  },
  {
   "cell_type": "code",
   "execution_count": null,
   "metadata": {
    "colab": {
     "base_uri": "https://localhost:8080/",
     "height": 394
    },
    "colab_type": "code",
    "id": "e0pODk7UQqla",
    "outputId": "d0c8da74-00a5-4c77-83b3-12b9b942e823"
   },
   "outputs": [],
   "source": [
    "# base_model = VGG19(weights='imagenet', include_top=False, input_shape=(208, 208, 3))\n",
    "# base_model = ResNet50(weights='imagenet', include_top=False, input_shape=(208, 208, 3))\n",
    "base_model = InceptionResNetV2(weights='imagenet', include_top=False,\n",
    "                               input_shape=(INPUT_SIZE, INPUT_SIZE, 3))\n",
    "# base_model = InceptionV3(weights='imagenet', include_top=False, input_shape=(208, 208, 3))\n",
    "\n",
    "model = Sequential()\n",
    "\n",
    "model.add(base_model)\n",
    "\n",
    "# model.add(Flatten())\n",
    "# model.add(Dense(2048, activation='relu'))\n",
    "# model.add(Dropout(0.8))\n",
    "\n",
    "model.add(GlobalAveragePooling2D())\n",
    "model.add(Dense(256, activation='relu'))\n",
    "model.add(Dropout(0.8))\n",
    "\n",
    "# model.add(Flatten())\n",
    "# model.add(Dense(1024, activation='relu'))\n",
    "# model.add(Dropout(0.8))\n",
    "\n",
    "model.add(Dense(len(lb.classes_), activation='softmax'))"
   ]
  },
  {
   "cell_type": "code",
   "execution_count": null,
   "metadata": {
    "colab": {
     "base_uri": "https://localhost:8080/",
     "height": 306
    },
    "colab_type": "code",
    "id": "J-4wJHaU1bC2",
    "outputId": "09e79666-9cc5-43ad-a919-ba4b17acfb4e"
   },
   "outputs": [],
   "source": [
    "model.summary()"
   ]
  },
  {
   "cell_type": "markdown",
   "metadata": {},
   "source": [
    "### Optimizers"
   ]
  },
  {
   "cell_type": "code",
   "execution_count": null,
   "metadata": {
    "colab": {
     "base_uri": "https://localhost:8080/",
     "height": 71
    },
    "colab_type": "code",
    "id": "H8OxMn_WEsTV",
    "outputId": "dc826b91-2b38-417d-b270-5c2cd6474a81"
   },
   "outputs": [],
   "source": [
    "# opt = SGD(lr=0.01, clipnorm=1, decay=1e-6, momentum=0.9, nesterov=True)\n",
    "opt = Adam(lr=0.00005)\n",
    "# opt = RMSprop(lr=0.0001)\n",
    "\n",
    "model.compile(loss='categorical_crossentropy', optimizer=opt, metrics=['accuracy'])"
   ]
  },
  {
   "cell_type": "markdown",
   "metadata": {
    "colab": {
     "base_uri": "https://localhost:8080/",
     "height": 34
    },
    "colab_type": "code",
    "id": "BxaC7X1qXOP8",
    "outputId": "819da738-f2b8-48ee-ad96-5542fba3452c"
   },
   "source": [
    "### Training"
   ]
  },
  {
   "cell_type": "code",
   "execution_count": null,
   "metadata": {
    "colab": {
     "base_uri": "https://localhost:8080/",
     "height": 1000
    },
    "colab_type": "code",
    "id": "WptJg-zCFfHX",
    "outputId": "060664cc-8448-48e2-b7ca-435d3ddb9718"
   },
   "outputs": [],
   "source": [
    "checkpoint = ModelCheckpoint(filepath=MODEL_FILENAME, monitor='val_loss',\n",
    "                             verbose=1, save_best_only=True)\n",
    "\n",
    "history = model.fit_generator(data_augmentation.flow(trainX, trainY, batch_size=36),\n",
    "                    validation_data=(testX, testY),\n",
    "                    epochs=15, verbose=1,\n",
    "                    steps_per_epoch=len(trainX) // 36, callbacks=[checkpoint])"
   ]
  },
  {
   "cell_type": "code",
   "execution_count": null,
   "metadata": {
    "colab": {},
    "colab_type": "code",
    "id": "H4aBZ0SbPAcR"
   },
   "outputs": [],
   "source": [
    "# Save history to plot results\n",
    "with open(HISTORY_FILENAME, 'wb') as file:\n",
    "    pickle.dump(history.history, file)"
   ]
  },
  {
   "cell_type": "markdown",
   "metadata": {},
   "source": [
    "# Evaluating"
   ]
  },
  {
   "cell_type": "markdown",
   "metadata": {},
   "source": [
    "### Evaluation of all images"
   ]
  },
  {
   "cell_type": "code",
   "execution_count": null,
   "metadata": {
    "colab": {
     "base_uri": "https://localhost:8080/",
     "height": 1000
    },
    "colab_type": "code",
    "id": "93Pi0JICDn4b",
    "outputId": "c521c65c-d6a9-48c7-ef13-03e6fcc15e58"
   },
   "outputs": [],
   "source": [
    "true_labels = list()\n",
    "predicted_labels = list()\n",
    "\n",
    "for image, true_label_enc in zip(testX, testY):\n",
    "    prediction = model.predict(np.expand_dims(image, axis=0))[0]\n",
    "    id_predicted = np.argmax(prediction)\n",
    "    label = lb.classes_[id_predicted]\n",
    "    predicted_labels.append(label)\n",
    "\n",
    "    id_true_label = np.argmax(true_label_enc)\n",
    "    true_label = lb.classes_[id_true_label]\n",
    "    true_labels.append(true_label)\n",
    "    if true_label != label:\n",
    "        print('OH NO! It was a ' + true_label + ', but it predicted ' + label)\n",
    "    else:\n",
    "        print(true_label)"
   ]
  },
  {
   "cell_type": "markdown",
   "metadata": {},
   "source": [
    "### Evaluation of one single image"
   ]
  },
  {
   "cell_type": "code",
   "execution_count": null,
   "metadata": {
    "colab": {
     "base_uri": "https://localhost:8080/",
     "height": 320
    },
    "colab_type": "code",
    "id": "OYuo-Lv3NHLC",
    "outputId": "07662afc-0a77-4dc3-c290-9b035b0cd8d8"
   },
   "outputs": [],
   "source": [
    "IMG_ID = 11\n",
    "\n",
    "image = testX[IMG_ID]\n",
    "true_label_enc = testY[IMG_ID]\n",
    "prediction = model.predict(np.expand_dims(image, axis=0))[0]\n",
    "id_predicted = np.argmax(prediction)\n",
    "predicted_label = lb.classes_[id_predicted]\n",
    "print('Predicted: ' + predicted_label)\n",
    "\n",
    "id_true_label = np.argmax(true_label_enc)\n",
    "true_label = lb.classes_[id_true_label]\n",
    "print('True: ' + true_label)\n",
    "\n",
    "plt.axis('off')\n",
    "plt.imshow(image[...,::-1])\n",
    "plt.show()"
   ]
  },
  {
   "cell_type": "markdown",
   "metadata": {},
   "source": [
    "### Confusion matrix"
   ]
  },
  {
   "cell_type": "code",
   "execution_count": null,
   "metadata": {
    "colab": {
     "base_uri": "https://localhost:8080/",
     "height": 902
    },
    "colab_type": "code",
    "id": "cLm2C6yqsHaj",
    "outputId": "491af9cd-b0f0-4e82-d265-136ece2aee1b"
   },
   "outputs": [],
   "source": [
    "classes = lb.classes_.tolist()\n",
    "plot_confusion_matrix(true_labels, labels_predicted, classes)\n",
    "\n",
    "plt.show()"
   ]
  },
  {
   "cell_type": "code",
   "execution_count": null,
   "metadata": {
    "colab": {
     "base_uri": "https://localhost:8080/",
     "height": 34
    },
    "colab_type": "code",
    "id": "9NVh0mMBRHtT",
    "outputId": "02e04af0-8669-4f66-b9c6-d1e345d42e3e"
   },
   "outputs": [],
   "source": []
  }
 ],
 "metadata": {
  "accelerator": "GPU",
  "colab": {
   "name": "Train.ipynb",
   "provenance": [],
   "toc_visible": true,
   "version": "0.3.2"
  },
  "kernelspec": {
   "display_name": "Python 3",
   "language": "python",
   "name": "python3"
  },
  "language_info": {
   "codemirror_mode": {
    "name": "ipython",
    "version": 3
   },
   "file_extension": ".py",
   "mimetype": "text/x-python",
   "name": "python",
   "nbconvert_exporter": "python",
   "pygments_lexer": "ipython3",
   "version": "3.5.2"
  }
 },
 "nbformat": 4,
 "nbformat_minor": 1
}
