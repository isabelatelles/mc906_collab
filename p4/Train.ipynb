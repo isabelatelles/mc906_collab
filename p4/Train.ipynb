{
 "cells": [
  {
   "cell_type": "code",
   "execution_count": 1,
   "metadata": {},
   "outputs": [],
   "source": [
    "import os\n",
    "import cv2\n",
    "import numpy as np\n",
    "import pandas as pd\n",
    "from sklearn.preprocessing import LabelBinarizer"
   ]
  },
  {
   "cell_type": "code",
   "execution_count": 2,
   "metadata": {},
   "outputs": [],
   "source": [
    "df = pd.read_csv('dog_breed/labels.csv')\n",
    "occurrencies_df = df.pivot_table(index='breed', aggfunc=len).sort_values('id', ascending=False)"
   ]
  },
  {
   "cell_type": "code",
   "execution_count": 3,
   "metadata": {},
   "outputs": [],
   "source": [
    "# Get 10 breed dogs with most occurrency\n",
    "labels = np.array(occurrencies_df.index[:10])\n",
    "df = df.loc[df['breed'].isin(labels)]\n",
    "\n",
    "# labels = df.breed.unique()\n",
    "\n",
    "lb = LabelBinarizer()\n",
    "labels = lb.fit_transform(labels)"
   ]
  },
  {
   "cell_type": "code",
   "execution_count": 4,
   "metadata": {},
   "outputs": [],
   "source": [
    "train_path = 'dog_breed/train/'\n",
    "data = list()\n",
    "\n",
    "for file in os.listdir(train_path):\n",
    "    filename = file.split('.')[0]\n",
    "    if df['id'].str.contains(filename).any():\n",
    "        image = cv2.imread(train_path + file)\n",
    "        resized_image = cv2.resize(image, (128, 128))\n",
    "        data.append(resized_image)"
   ]
  }
 ],
 "metadata": {
  "kernelspec": {
   "display_name": "Python 3",
   "language": "python",
   "name": "python3"
  },
  "language_info": {
   "codemirror_mode": {
    "name": "ipython",
    "version": 3
   },
   "file_extension": ".py",
   "mimetype": "text/x-python",
   "name": "python",
   "nbconvert_exporter": "python",
   "pygments_lexer": "ipython3",
   "version": "3.5.2"
  }
 },
 "nbformat": 4,
 "nbformat_minor": 2
}
