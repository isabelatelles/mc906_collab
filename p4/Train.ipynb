{
 "cells": [
  {
   "cell_type": "code",
   "execution_count": 1,
   "metadata": {},
   "outputs": [
    {
     "name": "stderr",
     "output_type": "stream",
     "text": [
      "Using TensorFlow backend.\n"
     ]
    }
   ],
   "source": [
    "import os\n",
    "import cv2\n",
    "import numpy as np\n",
    "import pandas as pd\n",
    "from keras.preprocessing.image import ImageDataGenerator\n",
    "from sklearn.preprocessing import LabelBinarizer\n",
    "from sklearn.model_selection import train_test_split"
   ]
  },
  {
   "cell_type": "code",
   "execution_count": 2,
   "metadata": {},
   "outputs": [],
   "source": [
    "df = pd.read_csv('dog_breed/labels.csv')\n",
    "occurrencies_df = df.pivot_table(index='breed', aggfunc=len).sort_values('id', ascending=False)"
   ]
  },
  {
   "cell_type": "code",
   "execution_count": 3,
   "metadata": {},
   "outputs": [],
   "source": [
    "# Get 10 breed dogs with most occurrency\n",
    "labels = np.array(occurrencies_df.index[:10])\n",
    "df = df.loc[df['breed'].isin(labels)]"
   ]
  },
  {
   "cell_type": "code",
   "execution_count": 4,
   "metadata": {},
   "outputs": [],
   "source": [
    "train_path = 'dog_breed/train/'\n",
    "data = list()\n",
    "labels = list()\n",
    "\n",
    "for file in os.listdir(train_path):\n",
    "    filename = file.split('.')[0]\n",
    "    if df['id'].str.contains(filename).any():\n",
    "        image = cv2.imread(train_path + file)\n",
    "        resized_image = cv2.resize(image, (128, 128))\n",
    "        data.append(resized_image)\n",
    "        \n",
    "        label = df.loc[df['id'] == filename, 'breed'].iloc[0]\n",
    "        labels.append(label)\n",
    "        \n",
    "data = np.array(data, dtype='float') / 255.0\n",
    "labels = np.array(labels)\n",
    "\n",
    "lb = LabelBinarizer()\n",
    "labels = lb.fit_transform(labels)"
   ]
  },
  {
   "cell_type": "code",
   "execution_count": 5,
   "metadata": {},
   "outputs": [],
   "source": [
    "(trainX, testX, trainY, testY) = train_test_split(data, labels, test_size=0.2, random_state=1, stratify=labels)"
   ]
  },
  {
   "cell_type": "code",
   "execution_count": 6,
   "metadata": {},
   "outputs": [],
   "source": [
    "data_augmentation = ImageDataGenerator(rotation_range=25, width_shift_range=0.2, height_shift_range=0.2, \\\n",
    "                                       shear_range=0.2, zoom_range=0.2, horizontal_flip=True, \\\n",
    "                                       fill_mode='nearest')"
   ]
  }
 ],
 "metadata": {
  "kernelspec": {
   "display_name": "Python 3",
   "language": "python",
   "name": "python3"
  },
  "language_info": {
   "codemirror_mode": {
    "name": "ipython",
    "version": 3
   },
   "file_extension": ".py",
   "mimetype": "text/x-python",
   "name": "python",
   "nbconvert_exporter": "python",
   "pygments_lexer": "ipython3",
   "version": "3.5.2"
  }
 },
 "nbformat": 4,
 "nbformat_minor": 2
}
